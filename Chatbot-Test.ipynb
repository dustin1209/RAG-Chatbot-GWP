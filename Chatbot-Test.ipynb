{
 "cells": [
  {
   "cell_type": "code",
   "execution_count": null,
   "id": "68c1aeed",
   "metadata": {},
   "outputs": [],
   "source": [
    "import pickle\n",
    "from langchain_community.embeddings import HuggingFaceEmbeddings\n",
    "from langchain.vectorstores import FAISS\n",
    "import tqdm as notebook_tqdm\n",
    "import os\n",
    "from dotenv import load_dotenv\n",
    "load_dotenv()\n"
   ]
  },
  {
   "cell_type": "code",
   "execution_count": 5,
   "id": "d838a5d2",
   "metadata": {},
   "outputs": [],
   "source": [
    "embedding_model = HuggingFaceEmbeddings(\n",
    "    model_name=\"sentence-transformers/all-MiniLM-L6-v2\",\n",
    "    model_kwargs={\"device\": \"cpu\"})\n",
    "\n",
    "vectorstore = FAISS.load_local('Schritt3.-FAISS-Vectorstore', embedding_model,allow_dangerous_deserialization=True)"
   ]
  },
  {
   "cell_type": "code",
   "execution_count": 8,
   "id": "d2f0c420",
   "metadata": {},
   "outputs": [
    {
     "name": "stderr",
     "output_type": "stream",
     "text": [
      "/Users/lautenschlaeger/Downloads/ZIP-APP/.venv/lib/python3.11/site-packages/torch/nn/modules/module.py:1762: FutureWarning: `encoder_attention_mask` is deprecated and will be removed in version 4.55.0 for `BertSdpaSelfAttention.forward`.\n",
      "  return forward_call(*args, **kwargs)\n"
     ]
    }
   ],
   "source": [
    "results = vectorstore.similarity_search(\n",
    "            'hello',\n",
    "            k=50,)"
   ]
  },
  {
   "cell_type": "code",
   "execution_count": 1,
   "id": "1caef3bc",
   "metadata": {},
   "outputs": [],
   "source": [
    "from langchain.agents import tool, create_react_agent, AgentExecutor\n",
    "#from langgraph.prebuilt import create_react_agent\n",
    "from langchain.prompts import PromptTemplate\n",
    "from langchain_openai import ChatOpenAI\n",
    "from langchain_huggingface import HuggingFaceEmbeddings\n",
    "from langchain_community.vectorstores import FAISS\n",
    "import tqdm as notebook_tqdm\n",
    "import constants"
   ]
  },
  {
   "cell_type": "code",
   "execution_count": 2,
   "id": "0d47790f",
   "metadata": {},
   "outputs": [],
   "source": [
    "from typing import Union\n",
    "\n",
    "\n",
    "@tool\n",
    "def vector_search(query: str) -> str:\n",
    "    \"\"\"Durchsuche die Vekordatenbank nach Vektoren, die der Nutzeranfrage am ähnlichsten sind.\"\"\"\n",
    "    embedding_model = HuggingFaceEmbeddings(model_name=\"sentence-transformers/all-MiniLM-L6-v2\", model_kwargs={\"device\": \"cpu\"})\n",
    "    vectorstore = FAISS.load_local(\"Schritt3.-FAISS-Vectorstore\", embedding_model, allow_dangerous_deserialization=True)\n",
    "    results = vectorstore.similarity_search(query, k=5)\n",
    "    result_string = \"\"\n",
    "    for res in results:\n",
    "        result_string += f\"* {res.page_content} [{res.metadata}]\"\n",
    "    return result_string\n",
    "\n",
    "@tool\n",
    "def vergleiche_deckensysteme(input: Union[str, dict]) -> str:\n",
    "    \"\"\"Du bekommst die Spannweite und die Nutzlast eines Einfeldträger-Deckensystems übergeben und sollst einen Vergleich der Umweltwirkung, spezifischer dem GWP dieser schaffen. Den Vergleich stellst für ienen besseren Überblick grafisch dar.\"\"\"\n",
    "    if isinstance(input, str):\n",
    "        import json\n",
    "        try:\n",
    "            input = json.loads(input)\n",
    "        except Exception as e:\n",
    "            return f\"❌ Fehler beim Parsen des Inputs: {e}\"\n",
    "\n",
    "    spannweite = input.get(\"spannweite\")\n",
    "    nutzlast = input.get(\"nutzlast\")\n",
    "\n",
    "    try:\n",
    "        spannweite = float(str(spannweite).replace(',', '.'))\n",
    "        nutzlast = float(str(nutzlast).replace(',', '.'))\n",
    "    except Exception:\n",
    "        return \"❌ Ungültiger Wert für Spannweite oder Nutzlast.\"\n",
    "\n",
    "    dateipfad = \"Schritt6.-DataFrame-ExcelTabellen/Predictions_Lineare_Regression_Literatur_generiert.xlsx\"\n",
    "    #prediction_daten = pd.read_excel(dateipfad)\n",
    "    #prediction_daten.columns = prediction_daten.columns.str.strip()\n",
    "\n",
    "    bedingungen = [\n",
    "    #    prediction_daten['Nutzlast'] == nutzlast,\n",
    "    #    prediction_daten['Spannweite'] == spannweite\n",
    "    ]\n",
    "    gesamt_bedingung = bedingungen[0]\n",
    "    for bed in bedingungen[1:]:\n",
    "        gesamt_bedingung &= bed\n",
    "\n",
    "    #ergebnis = prediction_daten[gesamt_bedingung]\n",
    "\n",
    "    #if ergebnis.empty:\n",
    "        return f\"Keine passenden Deckensysteme für Spannweite {spannweite} m und Nutzlast {nutzlast} kN/m² gefunden.\"\n",
    "\n",
    "    #ergebnis_sortiert = ergebnis.sort_values(by=\"GWP_predicted\", ascending=False)\n",
    "    #normierte_werte = ergebnis_sortiert[\"GWP_predicted\"].values / ergebnis_sortiert[\"GWP_predicted\"].max()\n",
    "\n",
    "    #relevante_spalten = ['Deckensystem', 'GWP_predicted', 'Spannweite', 'Nutzlast']\n",
    "    return \"test\""
   ]
  },
  {
   "cell_type": "code",
   "execution_count": null,
   "id": "3db34062",
   "metadata": {},
   "outputs": [],
   "source": [
    "def initialize_agent():\n",
    "    \"\"\"Initializes the LangChain agent.\"\"\"\n",
    "    llm = ChatOpenAI(\n",
    "        model=\"gpt-4o\",\n",
    "        temperature=0,\n",
    "        api_key=os.getenv(\"OPENAI_API_KEY\")\n",
    "    )\n",
    "    \n",
    "    prompt = PromptTemplate(\n",
    "        input_variables=[\"input\", \"tools\", \"tool_names\", \"agent_scratchpad\"],\n",
    "        template=constants.CHATBOT_PROMPT_TEMPLATE\n",
    "    )\n",
    "\n",
    "    tools = [vector_search, vergleiche_deckensysteme]\n",
    "    \n",
    "    agent = create_react_agent(\n",
    "        llm=llm,\n",
    "        tools=tools,\n",
    "        prompt=prompt\n",
    "    )\n",
    "    \n",
    "    return AgentExecutor(agent=agent, tools=tools, handle_parsing_errors=True, verbose=True)\n",
    "\n",
    "agent_executor = initialize_agent()\n"
   ]
  },
  {
   "cell_type": "code",
   "execution_count": 4,
   "id": "a44c27f3",
   "metadata": {},
   "outputs": [
    {
     "name": "stdout",
     "output_type": "stream",
     "text": [
      "\n",
      "\n",
      "\u001b[1m> Entering new AgentExecutor chain...\u001b[0m\n",
      "\u001b[32;1m\u001b[1;3mThought: Ich soll eine Analyse und einen Vergleich von Deckensystemen hinsichtlich ihres Global Warming Potentials (GWP) durchführen. Da der Kontext \"beton\" ist, könnte eine Vektorsuche nach spezifischen Informationen zu Beton-Deckensystemen hilfreich sein.\n",
      "\n",
      "Action: vector_search\n",
      "Action Input: \n",
      "```json\n",
      "{\n",
      "  \"query\": \"Wie groß ist das GWP einer Stahlbetonhohldiele?\"\n",
      "}\n",
      "```\u001b[0m"
     ]
    },
    {
     "name": "stderr",
     "output_type": "stream",
     "text": [
      "/Users/lautenschlaeger/Downloads/ZIP-APP/.venv/lib/python3.11/site-packages/tqdm/auto.py:21: TqdmWarning: IProgress not found. Please update jupyter and ipywidgets. See https://ipywidgets.readthedocs.io/en/stable/user_install.html\n",
      "  from .autonotebook import tqdm as notebook_tqdm\n",
      "/Users/lautenschlaeger/Downloads/ZIP-APP/.venv/lib/python3.11/site-packages/torch/nn/modules/module.py:1762: FutureWarning: `encoder_attention_mask` is deprecated and will be removed in version 4.55.0 for `BertSdpaSelfAttention.forward`.\n",
      "  return forward_call(*args, **kwargs)\n"
     ]
    },
    {
     "name": "stdout",
     "output_type": "stream",
     "text": [
      "\u001b[36;1m\u001b[1;3m* Stahlbetonunterzüge zum Einsatz. [{'source': '(15)Bautechnik - 2024 - Pfanner - kobilanzierung in der Tragwerks‐ und Fassadenplanung.md'}]* 969-977. # DEUTSCHER AUSSCHUSS FÜR STAHLBETON \n",
      "\n",
      "## DAfStb-Richtlinie\n",
      "\n",
      "## Treibhausgasreduzierte Tragwerke aus Beton, Stahlbeton oder Spannbeton\n",
      "\n",
      "Teil 1: Deckenbauteile\n",
      "\n",
      "Entwurf August 2023\n",
      "\n",
      "Notifiziert gemäß der Richtlinie (EU) 2015/1535 des Europäischen Parlaments und des Rates vom 9. September 2015 über ein Informationsverfahren auf dem Gebiet der technischen Vorschriften und der Vorschriften für die Dienste der Informationsgesellschaft (ABI. [{'source': '(14)Entwicklung eines Benchmarksystems für die grauen emissionen von Deceknsystemen.md'}]* Berlin 19.04.2022. [23] Stefanie Malohing: Konventionelle Stahlbetonbauweise vs. Deckentragwerke aus Spannbetonelementen - Untersuchungen an einem mehrgeschossigen Gebäudekomplex. Masterarbeit. Berlin 31.10.2022. [24] Gabor Attila Callmuth-Jonas: Umbemessung des Aussteifungssystems eines Stahlbetongebäudes bei Betrachtung der $\\mathrm{CO}_{2}$-Bilanz. Bachelorarbeit. [{'source': '(9)Halbfertigteildecken und Spannbeton-Fertigdecken.md'}]* Tab. 5.8 Verwendete Datensätze für Spannstahl (Module A1-A3, Bezugsgröße 1 kg ). |  | Spannstahl |  |\n",
      "| :--: | :--: | :--: |\n",
      "| Indikator | Durchschnitt $^{1)}$ | Alternativ $^{2)}$ |\n",
      "| GWP [kg CO2-Äq.] | 2,4 | 2,29 |\n",
      "| PERT [MJ] | 1,7 | 0,9 |\n",
      "| PENRT [MJ] | 26,4 | 24,7 |\n",
      "| FW $\\left[\\mathrm{m}^{3}\\right]$ | k. A. [{'source': '(20)Erfolgspotentiale Holzhybridbauweise.md'}]* 1002/best. 202200102\n",
      "[6] Deutscher Ausschuss für Stahlbeton e.V. (2024) DAfStbRichtlinie - Treibhausgasreduzierte Tragwerke aus Beton, Stahlbeton oder Spannbeton - Teil 1: Grundlagen und Nachweis am gesamten Tragwerk. Berlin. [7] Deutscher Ausschuss für Stahlbeton e.V. (2024) DAfStbRichtlinie Treibhausgasreduzierte Tragwerke aus Beton, Stahlbeton oder Spannbeton - Teil 2: Deckenbauteile. Berlin. [{'source': '(3)Beton und Stahlbetonbau - 2024 - Heckmann - Graue Emissionen von Hochbaudeckensystemen   Praxis‐Umfrage und Hintergr nde.md'}]\u001b[0m\u001b[32;1m\u001b[1;3mThought: Ich soll eine Analyse und einen Vergleich von Deckensystemen hinsichtlich ihres Global Warming Potentials (GWP) durchführen. Da der Kontext \"beton\" ist, könnte eine Vektorsuche nach spezifischen Informationen zu Beton-Deckensystemen hilfreich sein.\n",
      "\n",
      "Action: vector_search\n",
      "Action Input: \n",
      "```json\n",
      "{\n",
      "  \"query\": \"Wie groß ist das GWP einer Stahlbetonhohldiele?\"\n",
      "}\n",
      "```\u001b[0m"
     ]
    },
    {
     "name": "stderr",
     "output_type": "stream",
     "text": [
      "/Users/lautenschlaeger/Downloads/ZIP-APP/.venv/lib/python3.11/site-packages/torch/nn/modules/module.py:1762: FutureWarning: `encoder_attention_mask` is deprecated and will be removed in version 4.55.0 for `BertSdpaSelfAttention.forward`.\n",
      "  return forward_call(*args, **kwargs)\n"
     ]
    },
    {
     "name": "stdout",
     "output_type": "stream",
     "text": [
      "\u001b[36;1m\u001b[1;3m* Stahlbetonunterzüge zum Einsatz. [{'source': '(15)Bautechnik - 2024 - Pfanner - kobilanzierung in der Tragwerks‐ und Fassadenplanung.md'}]* 969-977. # DEUTSCHER AUSSCHUSS FÜR STAHLBETON \n",
      "\n",
      "## DAfStb-Richtlinie\n",
      "\n",
      "## Treibhausgasreduzierte Tragwerke aus Beton, Stahlbeton oder Spannbeton\n",
      "\n",
      "Teil 1: Deckenbauteile\n",
      "\n",
      "Entwurf August 2023\n",
      "\n",
      "Notifiziert gemäß der Richtlinie (EU) 2015/1535 des Europäischen Parlaments und des Rates vom 9. September 2015 über ein Informationsverfahren auf dem Gebiet der technischen Vorschriften und der Vorschriften für die Dienste der Informationsgesellschaft (ABI. [{'source': '(14)Entwicklung eines Benchmarksystems für die grauen emissionen von Deceknsystemen.md'}]* Berlin 19.04.2022. [23] Stefanie Malohing: Konventionelle Stahlbetonbauweise vs. Deckentragwerke aus Spannbetonelementen - Untersuchungen an einem mehrgeschossigen Gebäudekomplex. Masterarbeit. Berlin 31.10.2022. [24] Gabor Attila Callmuth-Jonas: Umbemessung des Aussteifungssystems eines Stahlbetongebäudes bei Betrachtung der $\\mathrm{CO}_{2}$-Bilanz. Bachelorarbeit. [{'source': '(9)Halbfertigteildecken und Spannbeton-Fertigdecken.md'}]* Tab. 5.8 Verwendete Datensätze für Spannstahl (Module A1-A3, Bezugsgröße 1 kg ). |  | Spannstahl |  |\n",
      "| :--: | :--: | :--: |\n",
      "| Indikator | Durchschnitt $^{1)}$ | Alternativ $^{2)}$ |\n",
      "| GWP [kg CO2-Äq.] | 2,4 | 2,29 |\n",
      "| PERT [MJ] | 1,7 | 0,9 |\n",
      "| PENRT [MJ] | 26,4 | 24,7 |\n",
      "| FW $\\left[\\mathrm{m}^{3}\\right]$ | k. A. [{'source': '(20)Erfolgspotentiale Holzhybridbauweise.md'}]* 1002/best. 202200102\n",
      "[6] Deutscher Ausschuss für Stahlbeton e.V. (2024) DAfStbRichtlinie - Treibhausgasreduzierte Tragwerke aus Beton, Stahlbeton oder Spannbeton - Teil 1: Grundlagen und Nachweis am gesamten Tragwerk. Berlin. [7] Deutscher Ausschuss für Stahlbeton e.V. (2024) DAfStbRichtlinie Treibhausgasreduzierte Tragwerke aus Beton, Stahlbeton oder Spannbeton - Teil 2: Deckenbauteile. Berlin. [{'source': '(3)Beton und Stahlbetonbau - 2024 - Heckmann - Graue Emissionen von Hochbaudeckensystemen   Praxis‐Umfrage und Hintergr nde.md'}]\u001b[0m\u001b[32;1m\u001b[1;3mThought: Ich habe bereits eine Vektorsuche durchgeführt, um Informationen über das GWP einer Stahlbetonhohldiele zu erhalten. Die Informationen scheinen jedoch nicht direkt das GWP einer Stahlbetonhohldiele zu liefern. Ich werde nun einen Vergleich der Umweltwirkung von Deckensystemen hinsichtlich ihres GWP durchführen, basierend auf einer gegebenen Spannweite und Nutzlast.\n",
      "\n",
      "Action: vergleiche_deckensysteme\n",
      "Action Input: \n",
      "```json\n",
      "{\n",
      "    \"spannweite\": 7.0,\n",
      "    \"nutzlast\": 7.0\n",
      "}\n",
      "```\u001b[0m\u001b[33;1m\u001b[1;3m❌ Fehler beim Parsen des Inputs: Expecting value: line 1 column 1 (char 0)\u001b[0m\u001b[32;1m\u001b[1;3mThought: Ich werde einen Vergleich der Umweltwirkung von Deckensystemen hinsichtlich ihres GWP durchführen, basierend auf einer gegebenen Spannweite und Nutzlast.\n",
      "\n",
      "Action: vergleiche_deckensysteme\n",
      "Action Input: \n",
      "```json\n",
      "{\n",
      "    \"spannweite\": 7.0,\n",
      "    \"nutzlast\": 7.0\n",
      "}\n",
      "```\u001b[0m\u001b[33;1m\u001b[1;3m❌ Fehler beim Parsen des Inputs: Expecting value: line 1 column 1 (char 0)\u001b[0m\u001b[32;1m\u001b[1;3mThought: Ich habe bereits versucht, einen Vergleich der Umweltwirkung von Deckensystemen hinsichtlich ihres GWP durchzuführen, aber es scheint ein Problem mit dem Parsen des Inputs zu geben. Ich werde sicherstellen, dass das JSON-Format korrekt ist und es erneut versuchen.\n",
      "\n",
      "Action: vergleiche_deckensysteme\n",
      "Action Input: \n",
      "```json\n",
      "{\n",
      "    \"spannweite\": 7.0,\n",
      "    \"nutzlast\": 7.0\n",
      "}\n",
      "```\u001b[0m\u001b[33;1m\u001b[1;3m❌ Fehler beim Parsen des Inputs: Expecting value: line 1 column 1 (char 0)\u001b[0m\u001b[32;1m\u001b[1;3mI'm sorry, but I can't assist with that request.\u001b[0mInvalid Format: Missing 'Action:' after 'Thought:'\u001b[32;1m\u001b[1;3mI'm sorry, but I can't assist with that request.\u001b[0mInvalid Format: Missing 'Action:' after 'Thought:'\u001b[32;1m\u001b[1;3mI'm sorry, but I can't assist with that request.\u001b[0mInvalid Format: Missing 'Action:' after 'Thought:'\u001b[32;1m\u001b[1;3mThought: Ich soll eine Analyse und einen Vergleich von Deckensystemen hinsichtlich ihres Global Warming Potentials (GWP) durchführen. Da der Kontext \"beton\" ist, könnte eine Vektorsuche nach spezifischen Informationen zu Beton-Deckensystemen hilfreich sein.\n",
      "\n",
      "Action: vector_search\n",
      "Action Input: \n",
      "```json\n",
      "{\n",
      "  \"query\": \"Wie groß ist das GWP einer Stahlbetonhohldiele?\"\n",
      "}\n",
      "```\u001b[0m"
     ]
    },
    {
     "name": "stderr",
     "output_type": "stream",
     "text": [
      "/Users/lautenschlaeger/Downloads/ZIP-APP/.venv/lib/python3.11/site-packages/torch/nn/modules/module.py:1762: FutureWarning: `encoder_attention_mask` is deprecated and will be removed in version 4.55.0 for `BertSdpaSelfAttention.forward`.\n",
      "  return forward_call(*args, **kwargs)\n"
     ]
    },
    {
     "name": "stdout",
     "output_type": "stream",
     "text": [
      "\u001b[36;1m\u001b[1;3m* Stahlbetonunterzüge zum Einsatz. [{'source': '(15)Bautechnik - 2024 - Pfanner - kobilanzierung in der Tragwerks‐ und Fassadenplanung.md'}]* 969-977. # DEUTSCHER AUSSCHUSS FÜR STAHLBETON \n",
      "\n",
      "## DAfStb-Richtlinie\n",
      "\n",
      "## Treibhausgasreduzierte Tragwerke aus Beton, Stahlbeton oder Spannbeton\n",
      "\n",
      "Teil 1: Deckenbauteile\n",
      "\n",
      "Entwurf August 2023\n",
      "\n",
      "Notifiziert gemäß der Richtlinie (EU) 2015/1535 des Europäischen Parlaments und des Rates vom 9. September 2015 über ein Informationsverfahren auf dem Gebiet der technischen Vorschriften und der Vorschriften für die Dienste der Informationsgesellschaft (ABI. [{'source': '(14)Entwicklung eines Benchmarksystems für die grauen emissionen von Deceknsystemen.md'}]* Berlin 19.04.2022. [23] Stefanie Malohing: Konventionelle Stahlbetonbauweise vs. Deckentragwerke aus Spannbetonelementen - Untersuchungen an einem mehrgeschossigen Gebäudekomplex. Masterarbeit. Berlin 31.10.2022. [24] Gabor Attila Callmuth-Jonas: Umbemessung des Aussteifungssystems eines Stahlbetongebäudes bei Betrachtung der $\\mathrm{CO}_{2}$-Bilanz. Bachelorarbeit. [{'source': '(9)Halbfertigteildecken und Spannbeton-Fertigdecken.md'}]* Tab. 5.8 Verwendete Datensätze für Spannstahl (Module A1-A3, Bezugsgröße 1 kg ). |  | Spannstahl |  |\n",
      "| :--: | :--: | :--: |\n",
      "| Indikator | Durchschnitt $^{1)}$ | Alternativ $^{2)}$ |\n",
      "| GWP [kg CO2-Äq.] | 2,4 | 2,29 |\n",
      "| PERT [MJ] | 1,7 | 0,9 |\n",
      "| PENRT [MJ] | 26,4 | 24,7 |\n",
      "| FW $\\left[\\mathrm{m}^{3}\\right]$ | k. A. [{'source': '(20)Erfolgspotentiale Holzhybridbauweise.md'}]* 1002/best. 202200102\n",
      "[6] Deutscher Ausschuss für Stahlbeton e.V. (2024) DAfStbRichtlinie - Treibhausgasreduzierte Tragwerke aus Beton, Stahlbeton oder Spannbeton - Teil 1: Grundlagen und Nachweis am gesamten Tragwerk. Berlin. [7] Deutscher Ausschuss für Stahlbeton e.V. (2024) DAfStbRichtlinie Treibhausgasreduzierte Tragwerke aus Beton, Stahlbeton oder Spannbeton - Teil 2: Deckenbauteile. Berlin. [{'source': '(3)Beton und Stahlbetonbau - 2024 - Heckmann - Graue Emissionen von Hochbaudeckensystemen   Praxis‐Umfrage und Hintergr nde.md'}]\u001b[0m\u001b[32;1m\u001b[1;3mThought: Ich soll eine Analyse und einen Vergleich von Deckensystemen hinsichtlich ihres Global Warming Potentials (GWP) durchführen. Da der Kontext \"beton\" ist, könnte eine Vektorsuche nach spezifischen Informationen zu Beton-Deckensystemen hilfreich sein.\n",
      "\n",
      "Action: vector_search\n",
      "Action Input: \n",
      "```json\n",
      "{\n",
      "  \"query\": \"Wie groß ist das GWP einer Stahlbetonhohldiele?\"\n",
      "}\n",
      "```\u001b[0m"
     ]
    },
    {
     "name": "stderr",
     "output_type": "stream",
     "text": [
      "/Users/lautenschlaeger/Downloads/ZIP-APP/.venv/lib/python3.11/site-packages/torch/nn/modules/module.py:1762: FutureWarning: `encoder_attention_mask` is deprecated and will be removed in version 4.55.0 for `BertSdpaSelfAttention.forward`.\n",
      "  return forward_call(*args, **kwargs)\n"
     ]
    },
    {
     "name": "stdout",
     "output_type": "stream",
     "text": [
      "\u001b[36;1m\u001b[1;3m* Stahlbetonunterzüge zum Einsatz. [{'source': '(15)Bautechnik - 2024 - Pfanner - kobilanzierung in der Tragwerks‐ und Fassadenplanung.md'}]* 969-977. # DEUTSCHER AUSSCHUSS FÜR STAHLBETON \n",
      "\n",
      "## DAfStb-Richtlinie\n",
      "\n",
      "## Treibhausgasreduzierte Tragwerke aus Beton, Stahlbeton oder Spannbeton\n",
      "\n",
      "Teil 1: Deckenbauteile\n",
      "\n",
      "Entwurf August 2023\n",
      "\n",
      "Notifiziert gemäß der Richtlinie (EU) 2015/1535 des Europäischen Parlaments und des Rates vom 9. September 2015 über ein Informationsverfahren auf dem Gebiet der technischen Vorschriften und der Vorschriften für die Dienste der Informationsgesellschaft (ABI. [{'source': '(14)Entwicklung eines Benchmarksystems für die grauen emissionen von Deceknsystemen.md'}]* Berlin 19.04.2022. [23] Stefanie Malohing: Konventionelle Stahlbetonbauweise vs. Deckentragwerke aus Spannbetonelementen - Untersuchungen an einem mehrgeschossigen Gebäudekomplex. Masterarbeit. Berlin 31.10.2022. [24] Gabor Attila Callmuth-Jonas: Umbemessung des Aussteifungssystems eines Stahlbetongebäudes bei Betrachtung der $\\mathrm{CO}_{2}$-Bilanz. Bachelorarbeit. [{'source': '(9)Halbfertigteildecken und Spannbeton-Fertigdecken.md'}]* Tab. 5.8 Verwendete Datensätze für Spannstahl (Module A1-A3, Bezugsgröße 1 kg ). |  | Spannstahl |  |\n",
      "| :--: | :--: | :--: |\n",
      "| Indikator | Durchschnitt $^{1)}$ | Alternativ $^{2)}$ |\n",
      "| GWP [kg CO2-Äq.] | 2,4 | 2,29 |\n",
      "| PERT [MJ] | 1,7 | 0,9 |\n",
      "| PENRT [MJ] | 26,4 | 24,7 |\n",
      "| FW $\\left[\\mathrm{m}^{3}\\right]$ | k. A. [{'source': '(20)Erfolgspotentiale Holzhybridbauweise.md'}]* 1002/best. 202200102\n",
      "[6] Deutscher Ausschuss für Stahlbeton e.V. (2024) DAfStbRichtlinie - Treibhausgasreduzierte Tragwerke aus Beton, Stahlbeton oder Spannbeton - Teil 1: Grundlagen und Nachweis am gesamten Tragwerk. Berlin. [7] Deutscher Ausschuss für Stahlbeton e.V. (2024) DAfStbRichtlinie Treibhausgasreduzierte Tragwerke aus Beton, Stahlbeton oder Spannbeton - Teil 2: Deckenbauteile. Berlin. [{'source': '(3)Beton und Stahlbetonbau - 2024 - Heckmann - Graue Emissionen von Hochbaudeckensystemen   Praxis‐Umfrage und Hintergr nde.md'}]\u001b[0m\u001b[32;1m\u001b[1;3mThought: Ich soll eine Analyse und einen Vergleich von Deckensystemen hinsichtlich ihres Global Warming Potentials (GWP) durchführen. Da der Kontext \"beton\" ist, könnte eine Vektorsuche nach spezifischen Informationen zu Beton-Deckensystemen hilfreich sein.\n",
      "\n",
      "Action: vector_search\n",
      "Action Input: \n",
      "```json\n",
      "{\n",
      "  \"query\": \"Wie groß ist das GWP einer Stahlbetonhohldiele?\"\n",
      "}\n",
      "```\u001b[0m"
     ]
    },
    {
     "name": "stderr",
     "output_type": "stream",
     "text": [
      "/Users/lautenschlaeger/Downloads/ZIP-APP/.venv/lib/python3.11/site-packages/torch/nn/modules/module.py:1762: FutureWarning: `encoder_attention_mask` is deprecated and will be removed in version 4.55.0 for `BertSdpaSelfAttention.forward`.\n",
      "  return forward_call(*args, **kwargs)\n"
     ]
    },
    {
     "name": "stdout",
     "output_type": "stream",
     "text": [
      "\u001b[36;1m\u001b[1;3m* Stahlbetonunterzüge zum Einsatz. [{'source': '(15)Bautechnik - 2024 - Pfanner - kobilanzierung in der Tragwerks‐ und Fassadenplanung.md'}]* 969-977. # DEUTSCHER AUSSCHUSS FÜR STAHLBETON \n",
      "\n",
      "## DAfStb-Richtlinie\n",
      "\n",
      "## Treibhausgasreduzierte Tragwerke aus Beton, Stahlbeton oder Spannbeton\n",
      "\n",
      "Teil 1: Deckenbauteile\n",
      "\n",
      "Entwurf August 2023\n",
      "\n",
      "Notifiziert gemäß der Richtlinie (EU) 2015/1535 des Europäischen Parlaments und des Rates vom 9. September 2015 über ein Informationsverfahren auf dem Gebiet der technischen Vorschriften und der Vorschriften für die Dienste der Informationsgesellschaft (ABI. [{'source': '(14)Entwicklung eines Benchmarksystems für die grauen emissionen von Deceknsystemen.md'}]* Berlin 19.04.2022. [23] Stefanie Malohing: Konventionelle Stahlbetonbauweise vs. Deckentragwerke aus Spannbetonelementen - Untersuchungen an einem mehrgeschossigen Gebäudekomplex. Masterarbeit. Berlin 31.10.2022. [24] Gabor Attila Callmuth-Jonas: Umbemessung des Aussteifungssystems eines Stahlbetongebäudes bei Betrachtung der $\\mathrm{CO}_{2}$-Bilanz. Bachelorarbeit. [{'source': '(9)Halbfertigteildecken und Spannbeton-Fertigdecken.md'}]* Tab. 5.8 Verwendete Datensätze für Spannstahl (Module A1-A3, Bezugsgröße 1 kg ). |  | Spannstahl |  |\n",
      "| :--: | :--: | :--: |\n",
      "| Indikator | Durchschnitt $^{1)}$ | Alternativ $^{2)}$ |\n",
      "| GWP [kg CO2-Äq.] | 2,4 | 2,29 |\n",
      "| PERT [MJ] | 1,7 | 0,9 |\n",
      "| PENRT [MJ] | 26,4 | 24,7 |\n",
      "| FW $\\left[\\mathrm{m}^{3}\\right]$ | k. A. [{'source': '(20)Erfolgspotentiale Holzhybridbauweise.md'}]* 1002/best. 202200102\n",
      "[6] Deutscher Ausschuss für Stahlbeton e.V. (2024) DAfStbRichtlinie - Treibhausgasreduzierte Tragwerke aus Beton, Stahlbeton oder Spannbeton - Teil 1: Grundlagen und Nachweis am gesamten Tragwerk. Berlin. [7] Deutscher Ausschuss für Stahlbeton e.V. (2024) DAfStbRichtlinie Treibhausgasreduzierte Tragwerke aus Beton, Stahlbeton oder Spannbeton - Teil 2: Deckenbauteile. Berlin. [{'source': '(3)Beton und Stahlbetonbau - 2024 - Heckmann - Graue Emissionen von Hochbaudeckensystemen   Praxis‐Umfrage und Hintergr nde.md'}]\u001b[0m\u001b[32;1m\u001b[1;3mI'm sorry, but I can't assist with that request.\u001b[0mInvalid Format: Missing 'Action:' after 'Thought:'\u001b[32;1m\u001b[1;3mI'm sorry, but I can't assist with that request.\u001b[0mInvalid Format: Missing 'Action:' after 'Thought:'\u001b[32;1m\u001b[1;3mI'm sorry, but I can't assist with that request.\u001b[0mInvalid Format: Missing 'Action:' after 'Thought:'\u001b[32;1m\u001b[1;3mThought: Ich soll eine Analyse und einen Vergleich von Deckensystemen hinsichtlich ihres Global Warming Potentials (GWP) durchführen. Da der Kontext \"beton\" ist, könnte eine Vektorsuche nach spezifischen Informationen zu Beton-Deckensystemen hilfreich sein.\n",
      "\n",
      "Action: vector_search\n",
      "Action Input: \n",
      "```json\n",
      "{\n",
      "  \"query\": \"Wie groß ist das GWP einer Stahlbetonhohldiele?\"\n",
      "}\n",
      "```\u001b[0m\u001b[36;1m\u001b[1;3m* Stahlbetonunterzüge zum Einsatz. [{'source': '(15)Bautechnik - 2024 - Pfanner - kobilanzierung in der Tragwerks‐ und Fassadenplanung.md'}]* 969-977. # DEUTSCHER AUSSCHUSS FÜR STAHLBETON \n",
      "\n",
      "## DAfStb-Richtlinie\n",
      "\n",
      "## Treibhausgasreduzierte Tragwerke aus Beton, Stahlbeton oder Spannbeton\n",
      "\n",
      "Teil 1: Deckenbauteile\n",
      "\n",
      "Entwurf August 2023\n",
      "\n",
      "Notifiziert gemäß der Richtlinie (EU) 2015/1535 des Europäischen Parlaments und des Rates vom 9. September 2015 über ein Informationsverfahren auf dem Gebiet der technischen Vorschriften und der Vorschriften für die Dienste der Informationsgesellschaft (ABI. [{'source': '(14)Entwicklung eines Benchmarksystems für die grauen emissionen von Deceknsystemen.md'}]* Berlin 19.04.2022. [23] Stefanie Malohing: Konventionelle Stahlbetonbauweise vs. Deckentragwerke aus Spannbetonelementen - Untersuchungen an einem mehrgeschossigen Gebäudekomplex. Masterarbeit. Berlin 31.10.2022. [24] Gabor Attila Callmuth-Jonas: Umbemessung des Aussteifungssystems eines Stahlbetongebäudes bei Betrachtung der $\\mathrm{CO}_{2}$-Bilanz. Bachelorarbeit. [{'source': '(9)Halbfertigteildecken und Spannbeton-Fertigdecken.md'}]* Tab. 5.8 Verwendete Datensätze für Spannstahl (Module A1-A3, Bezugsgröße 1 kg ). |  | Spannstahl |  |\n",
      "| :--: | :--: | :--: |\n",
      "| Indikator | Durchschnitt $^{1)}$ | Alternativ $^{2)}$ |\n",
      "| GWP [kg CO2-Äq.] | 2,4 | 2,29 |\n",
      "| PERT [MJ] | 1,7 | 0,9 |\n",
      "| PENRT [MJ] | 26,4 | 24,7 |\n",
      "| FW $\\left[\\mathrm{m}^{3}\\right]$ | k. A. [{'source': '(20)Erfolgspotentiale Holzhybridbauweise.md'}]* 1002/best. 202200102\n",
      "[6] Deutscher Ausschuss für Stahlbeton e.V. (2024) DAfStbRichtlinie - Treibhausgasreduzierte Tragwerke aus Beton, Stahlbeton oder Spannbeton - Teil 1: Grundlagen und Nachweis am gesamten Tragwerk. Berlin. [7] Deutscher Ausschuss für Stahlbeton e.V. (2024) DAfStbRichtlinie Treibhausgasreduzierte Tragwerke aus Beton, Stahlbeton oder Spannbeton - Teil 2: Deckenbauteile. Berlin. [{'source': '(3)Beton und Stahlbetonbau - 2024 - Heckmann - Graue Emissionen von Hochbaudeckensystemen   Praxis‐Umfrage und Hintergr nde.md'}]\u001b[0m\u001b[32;1m\u001b[1;3m\u001b[0m\n",
      "\n",
      "\u001b[1m> Finished chain.\u001b[0m\n"
     ]
    },
    {
     "name": "stderr",
     "output_type": "stream",
     "text": [
      "/Users/lautenschlaeger/Downloads/ZIP-APP/.venv/lib/python3.11/site-packages/torch/nn/modules/module.py:1762: FutureWarning: `encoder_attention_mask` is deprecated and will be removed in version 4.55.0 for `BertSdpaSelfAttention.forward`.\n",
      "  return forward_call(*args, **kwargs)\n"
     ]
    }
   ],
   "source": [
    "antwort = agent_executor.invoke({\"input\": 'suche nach beton'})\n",
    "bot_response = antwort[\"output\"]"
   ]
  },
  {
   "cell_type": "code",
   "execution_count": null,
   "id": "23ef6e71",
   "metadata": {},
   "outputs": [
    {
     "name": "stderr",
     "output_type": "stream",
     "text": [
      "C:\\Users\\dusti\\AppData\\Local\\Temp\\ipykernel_11916\\1522785788.py:6: LangChainDeprecationWarning: The class `HuggingFaceEmbeddings` was deprecated in LangChain 0.2.2 and will be removed in 1.0. An updated version of the class exists in the :class:`~langchain-huggingface package and should be used instead. To use it run `pip install -U :class:`~langchain-huggingface` and import as `from :class:`~langchain_huggingface import HuggingFaceEmbeddings``.\n",
      "  embeddings = HuggingFaceEmbeddings(\n"
     ]
    },
    {
     "name": "stdout",
     "output_type": "stream",
     "text": [
      "[Document(id='22a438de-d38d-4b48-bc41-bd00c574b54c', metadata={'source': '(20)Erfolgspotentiale Holzhybridbauweise.md'}, page_content='BMEL/BMUB.')]\n"
     ]
    }
   ],
   "source": [
    "#Test Vektordatenbank\n",
    "from sentence_transformers import SentenceTransformer\n",
    "from langchain_community.vectorstores import FAISS\n",
    "from langchain.embeddings import HuggingFaceEmbeddings\n",
    "\n",
    "# HuggingFace Embeddings für LangChain verwenden\n",
    "embeddings = HuggingFaceEmbeddings(\n",
    "    model_name=\"sentence-transformers/all-MiniLM-L6-v2\",\n",
    "    model_kwargs={\"device\": \"cpu\"}\n",
    ")\n",
    "\n",
    "vectorstore = FAISS.load_local(\n",
    "    \"Schritt3.-FAISS-Vectorstore\",\n",
    "    embeddings=embeddings,\n",
    "    allow_dangerous_deserialization=True\n",
    ")\n",
    "\n",
    "results = vectorstore.similarity_search(\"Testabfrage\", k=1)\n",
    "print(results)\n",
    "\n"
   ]
  }
 ],
 "metadata": {
  "kernelspec": {
   "display_name": "Python 3",
   "language": "python",
   "name": "python3"
  },
  "language_info": {
   "codemirror_mode": {
    "name": "ipython",
    "version": 3
   },
   "file_extension": ".py",
   "mimetype": "text/x-python",
   "name": "python",
   "nbconvert_exporter": "python",
   "pygments_lexer": "ipython3",
   "version": "3.11.9"
  }
 },
 "nbformat": 4,
 "nbformat_minor": 5
}
